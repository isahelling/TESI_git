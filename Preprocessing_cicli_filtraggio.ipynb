{
 "cells": [
  {
   "cell_type": "code",
   "execution_count": 1,
   "metadata": {},
   "outputs": [],
   "source": [
    "import numpy as np\n",
    "import os\n",
    "import pandas as pd\n",
    "import mne\n",
    "\n",
    "from mne.preprocessing import ICA"
   ]
  },
  {
   "cell_type": "code",
   "execution_count": 2,
   "metadata": {},
   "outputs": [
    {
     "name": "stdout",
     "output_type": "stream",
     "text": [
      "Extracting parameters from C:\\Users\\Isabel\\Desktop\\TESI_git\\sub-01\\eeg\\sub-01_task-rsvp_eeg.vhdr...\n"
     ]
    },
    {
     "ename": "FileNotFoundError",
     "evalue": "[Errno 2] No such file or directory: 'C:\\\\Users\\\\Isabel\\\\Desktop\\\\TESI_git\\\\sub-01\\\\eeg\\\\sub-01_task-rsvp_eeg.vhdr'",
     "output_type": "error",
     "traceback": [
      "\u001b[1;31m---------------------------------------------------------------------------\u001b[0m",
      "\u001b[1;31mFileNotFoundError\u001b[0m                         Traceback (most recent call last)",
      "Cell \u001b[1;32mIn[2], line 19\u001b[0m\n\u001b[0;32m     17\u001b[0m     filename \u001b[38;5;241m=\u001b[39m home_path\u001b[38;5;241m+\u001b[39m\u001b[38;5;124m\"\u001b[39m\u001b[38;5;124m\\\u001b[39m\u001b[38;5;124msub-\u001b[39m\u001b[38;5;124m\"\u001b[39m\u001b[38;5;241m+\u001b[39m\u001b[38;5;28mstr\u001b[39m(paziente)\u001b[38;5;241m+\u001b[39m\u001b[38;5;124m\"\u001b[39m\u001b[38;5;124m\\\u001b[39m\u001b[38;5;124meeg\u001b[39m\u001b[38;5;124m\\\u001b[39m\u001b[38;5;124msub-\u001b[39m\u001b[38;5;124m\"\u001b[39m\u001b[38;5;241m+\u001b[39m\u001b[38;5;28mstr\u001b[39m(paziente)\u001b[38;5;241m+\u001b[39m\u001b[38;5;124m\"\u001b[39m\u001b[38;5;124m_task-rsvp_eeg.vhdr\u001b[39m\u001b[38;5;124m\"\u001b[39m\n\u001b[0;32m     18\u001b[0m \u001b[38;5;66;03m#importo eeg\u001b[39;00m\n\u001b[1;32m---> 19\u001b[0m raw\u001b[38;5;241m=\u001b[39m\u001b[43mmne\u001b[49m\u001b[38;5;241;43m.\u001b[39;49m\u001b[43mio\u001b[49m\u001b[38;5;241;43m.\u001b[39;49m\u001b[43mread_raw_brainvision\u001b[49m\u001b[43m(\u001b[49m\u001b[43mfilename\u001b[49m\u001b[43m,\u001b[49m\u001b[43m \u001b[49m\u001b[43mpreload\u001b[49m\u001b[38;5;241;43m=\u001b[39;49m\u001b[43m \u001b[49m\u001b[38;5;28;43;01mTrue\u001b[39;49;00m\u001b[43m)\u001b[49m\n\u001b[0;32m     20\u001b[0m \u001b[38;5;66;03m#Applico un filtro FIR tra 0.1 e 12 Hz per isolare le frequenze rilevanti\u001b[39;00m\n\u001b[0;32m     21\u001b[0m raw_filtred\u001b[38;5;241m=\u001b[39mraw\u001b[38;5;241m.\u001b[39mfilter(\u001b[38;5;241m0.1\u001b[39m, \u001b[38;5;241m12\u001b[39m, method\u001b[38;5;241m=\u001b[39m\u001b[38;5;124m'\u001b[39m\u001b[38;5;124mfir\u001b[39m\u001b[38;5;124m'\u001b[39m)\n",
      "File \u001b[1;32m~\\anaconda3\\envs\\TESI\\lib\\site-packages\\mne\\io\\brainvision\\brainvision.py:888\u001b[0m, in \u001b[0;36mread_raw_brainvision\u001b[1;34m(vhdr_fname, eog, misc, scale, preload, verbose)\u001b[0m\n\u001b[0;32m    854\u001b[0m \u001b[38;5;129m@fill_doc\u001b[39m\n\u001b[0;32m    855\u001b[0m \u001b[38;5;28;01mdef\u001b[39;00m \u001b[38;5;21mread_raw_brainvision\u001b[39m(vhdr_fname,\n\u001b[0;32m    856\u001b[0m                          eog\u001b[38;5;241m=\u001b[39m(\u001b[38;5;124m'\u001b[39m\u001b[38;5;124mHEOGL\u001b[39m\u001b[38;5;124m'\u001b[39m, \u001b[38;5;124m'\u001b[39m\u001b[38;5;124mHEOGR\u001b[39m\u001b[38;5;124m'\u001b[39m, \u001b[38;5;124m'\u001b[39m\u001b[38;5;124mVEOGb\u001b[39m\u001b[38;5;124m'\u001b[39m), misc\u001b[38;5;241m=\u001b[39m\u001b[38;5;124m'\u001b[39m\u001b[38;5;124mauto\u001b[39m\u001b[38;5;124m'\u001b[39m,\n\u001b[0;32m    857\u001b[0m                          scale\u001b[38;5;241m=\u001b[39m\u001b[38;5;241m1.\u001b[39m, preload\u001b[38;5;241m=\u001b[39m\u001b[38;5;28;01mFalse\u001b[39;00m, verbose\u001b[38;5;241m=\u001b[39m\u001b[38;5;28;01mNone\u001b[39;00m):\n\u001b[0;32m    858\u001b[0m \u001b[38;5;250m    \u001b[39m\u001b[38;5;124;03m\"\"\"Reader for Brain Vision EEG file.\u001b[39;00m\n\u001b[0;32m    859\u001b[0m \n\u001b[0;32m    860\u001b[0m \u001b[38;5;124;03m    Parameters\u001b[39;00m\n\u001b[1;32m   (...)\u001b[0m\n\u001b[0;32m    886\u001b[0m \u001b[38;5;124;03m    mne.io.Raw : Documentation of attribute and methods.\u001b[39;00m\n\u001b[0;32m    887\u001b[0m \u001b[38;5;124;03m    \"\"\"\u001b[39;00m\n\u001b[1;32m--> 888\u001b[0m     \u001b[38;5;28;01mreturn\u001b[39;00m \u001b[43mRawBrainVision\u001b[49m\u001b[43m(\u001b[49m\u001b[43mvhdr_fname\u001b[49m\u001b[38;5;241;43m=\u001b[39;49m\u001b[43mvhdr_fname\u001b[49m\u001b[43m,\u001b[49m\u001b[43m \u001b[49m\u001b[43meog\u001b[49m\u001b[38;5;241;43m=\u001b[39;49m\u001b[43meog\u001b[49m\u001b[43m,\u001b[49m\n\u001b[0;32m    889\u001b[0m \u001b[43m                          \u001b[49m\u001b[43mmisc\u001b[49m\u001b[38;5;241;43m=\u001b[39;49m\u001b[43mmisc\u001b[49m\u001b[43m,\u001b[49m\u001b[43m \u001b[49m\u001b[43mscale\u001b[49m\u001b[38;5;241;43m=\u001b[39;49m\u001b[43mscale\u001b[49m\u001b[43m,\u001b[49m\u001b[43m \u001b[49m\u001b[43mpreload\u001b[49m\u001b[38;5;241;43m=\u001b[39;49m\u001b[43mpreload\u001b[49m\u001b[43m,\u001b[49m\n\u001b[0;32m    890\u001b[0m \u001b[43m                          \u001b[49m\u001b[43mverbose\u001b[49m\u001b[38;5;241;43m=\u001b[39;49m\u001b[43mverbose\u001b[49m\u001b[43m)\u001b[49m\n",
      "File \u001b[1;32m<decorator-gen-240>:12\u001b[0m, in \u001b[0;36m__init__\u001b[1;34m(self, vhdr_fname, eog, misc, scale, preload, verbose)\u001b[0m\n",
      "File \u001b[1;32m~\\anaconda3\\envs\\TESI\\lib\\site-packages\\mne\\io\\brainvision\\brainvision.py:75\u001b[0m, in \u001b[0;36mRawBrainVision.__init__\u001b[1;34m(self, vhdr_fname, eog, misc, scale, preload, verbose)\u001b[0m\n\u001b[0;32m     72\u001b[0m ext \u001b[38;5;241m=\u001b[39m op\u001b[38;5;241m.\u001b[39msplitext(hdr_fname)[\u001b[38;5;241m-\u001b[39m\u001b[38;5;241m1\u001b[39m]\n\u001b[0;32m     73\u001b[0m ahdr_format \u001b[38;5;241m=\u001b[39m \u001b[38;5;28;01mTrue\u001b[39;00m \u001b[38;5;28;01mif\u001b[39;00m ext \u001b[38;5;241m==\u001b[39m \u001b[38;5;124m'\u001b[39m\u001b[38;5;124m.ahdr\u001b[39m\u001b[38;5;124m'\u001b[39m \u001b[38;5;28;01melse\u001b[39;00m \u001b[38;5;28;01mFalse\u001b[39;00m\n\u001b[0;32m     74\u001b[0m (info, data_fname, fmt, order, n_samples, mrk_fname, montage,\n\u001b[1;32m---> 75\u001b[0m  orig_units) \u001b[38;5;241m=\u001b[39m \u001b[43m_get_hdr_info\u001b[49m\u001b[43m(\u001b[49m\u001b[43mhdr_fname\u001b[49m\u001b[43m,\u001b[49m\u001b[43m \u001b[49m\u001b[43meog\u001b[49m\u001b[43m,\u001b[49m\u001b[43m \u001b[49m\u001b[43mmisc\u001b[49m\u001b[43m,\u001b[49m\u001b[43m \u001b[49m\u001b[43mscale\u001b[49m\u001b[43m)\u001b[49m\n\u001b[0;32m     77\u001b[0m \u001b[38;5;28;01mwith\u001b[39;00m \u001b[38;5;28mopen\u001b[39m(data_fname, \u001b[38;5;124m'\u001b[39m\u001b[38;5;124mrb\u001b[39m\u001b[38;5;124m'\u001b[39m) \u001b[38;5;28;01mas\u001b[39;00m f:\n\u001b[0;32m     78\u001b[0m     \u001b[38;5;28;01mif\u001b[39;00m \u001b[38;5;28misinstance\u001b[39m(fmt, \u001b[38;5;28mdict\u001b[39m):  \u001b[38;5;66;03m# ASCII, this will be slow :(\u001b[39;00m\n",
      "File \u001b[1;32m~\\anaconda3\\envs\\TESI\\lib\\site-packages\\mne\\io\\brainvision\\brainvision.py:475\u001b[0m, in \u001b[0;36m_get_hdr_info\u001b[1;34m(hdr_fname, eog, misc, scale)\u001b[0m\n\u001b[0;32m    471\u001b[0m \u001b[38;5;28;01mif\u001b[39;00m ext \u001b[38;5;129;01mnot\u001b[39;00m \u001b[38;5;129;01min\u001b[39;00m (\u001b[38;5;124m'\u001b[39m\u001b[38;5;124m.vhdr\u001b[39m\u001b[38;5;124m'\u001b[39m, \u001b[38;5;124m'\u001b[39m\u001b[38;5;124m.ahdr\u001b[39m\u001b[38;5;124m'\u001b[39m):\n\u001b[0;32m    472\u001b[0m     \u001b[38;5;28;01mraise\u001b[39;00m \u001b[38;5;167;01mIOError\u001b[39;00m(\u001b[38;5;124m\"\u001b[39m\u001b[38;5;124mThe header file must be given to read the data, \u001b[39m\u001b[38;5;124m\"\u001b[39m\n\u001b[0;32m    473\u001b[0m                   \u001b[38;5;124m\"\u001b[39m\u001b[38;5;124mnot a file with extension \u001b[39m\u001b[38;5;124m'\u001b[39m\u001b[38;5;132;01m%s\u001b[39;00m\u001b[38;5;124m'\u001b[39m\u001b[38;5;124m.\u001b[39m\u001b[38;5;124m\"\u001b[39m \u001b[38;5;241m%\u001b[39m ext)\n\u001b[1;32m--> 475\u001b[0m settings, cfg, cinfostr, info \u001b[38;5;241m=\u001b[39m \u001b[43m_aux_hdr_info\u001b[49m\u001b[43m(\u001b[49m\u001b[43mhdr_fname\u001b[49m\u001b[43m)\u001b[49m\n\u001b[0;32m    476\u001b[0m info\u001b[38;5;241m.\u001b[39m_unlocked \u001b[38;5;241m=\u001b[39m \u001b[38;5;28;01mTrue\u001b[39;00m\n\u001b[0;32m    478\u001b[0m order \u001b[38;5;241m=\u001b[39m cfg\u001b[38;5;241m.\u001b[39mget(cinfostr, \u001b[38;5;124m'\u001b[39m\u001b[38;5;124mDataOrientation\u001b[39m\u001b[38;5;124m'\u001b[39m)\n",
      "File \u001b[1;32m~\\anaconda3\\envs\\TESI\\lib\\site-packages\\mne\\io\\brainvision\\brainvision.py:376\u001b[0m, in \u001b[0;36m_aux_hdr_info\u001b[1;34m(hdr_fname)\u001b[0m\n\u001b[0;32m    374\u001b[0m \u001b[38;5;28;01mdef\u001b[39;00m \u001b[38;5;21m_aux_hdr_info\u001b[39m(hdr_fname):\n\u001b[0;32m    375\u001b[0m \u001b[38;5;250m    \u001b[39m\u001b[38;5;124;03m\"\"\"Aux function for _get_hdr_info.\"\"\"\u001b[39;00m\n\u001b[1;32m--> 376\u001b[0m     \u001b[38;5;28;01mwith\u001b[39;00m \u001b[38;5;28;43mopen\u001b[39;49m\u001b[43m(\u001b[49m\u001b[43mhdr_fname\u001b[49m\u001b[43m,\u001b[49m\u001b[43m \u001b[49m\u001b[38;5;124;43m'\u001b[39;49m\u001b[38;5;124;43mrb\u001b[39;49m\u001b[38;5;124;43m'\u001b[39;49m\u001b[43m)\u001b[49m \u001b[38;5;28;01mas\u001b[39;00m f:\n\u001b[0;32m    377\u001b[0m         \u001b[38;5;66;03m# extract the first section to resemble a cfg\u001b[39;00m\n\u001b[0;32m    378\u001b[0m         header \u001b[38;5;241m=\u001b[39m f\u001b[38;5;241m.\u001b[39mreadline()\n\u001b[0;32m    379\u001b[0m         codepage \u001b[38;5;241m=\u001b[39m \u001b[38;5;124m'\u001b[39m\u001b[38;5;124mutf-8\u001b[39m\u001b[38;5;124m'\u001b[39m\n",
      "\u001b[1;31mFileNotFoundError\u001b[0m: [Errno 2] No such file or directory: 'C:\\\\Users\\\\Isabel\\\\Desktop\\\\TESI_git\\\\sub-01\\\\eeg\\\\sub-01_task-rsvp_eeg.vhdr'"
     ]
    }
   ],
   "source": [
    "#definisco il percorso iniziale comune \n",
    "home_path = os.path.abspath(os.getcwd())\n",
    "\n",
    "#definisco una lista di nomi per salvare i file\n",
    "savename=[]\n",
    "for j in range(50):\n",
    "    savename.append('paziente'+str(j+1)+'.fif')\n",
    "\n",
    "\n",
    "for i in range(50):\n",
    "    #scelgo indice del paziente che voglio studiare\n",
    "    paziente= i+1\n",
    "    #scrivo il percorso\n",
    "    if paziente<10:\n",
    "        filename = home_path+\"\\sub-0\"+str(paziente)+\"\\eeg\\sub-0\"+str(paziente)+\"_task-rsvp_eeg.vhdr\"\n",
    "    if paziente >= 10:\n",
    "        filename = home_path+\"\\sub-\"+str(paziente)+\"\\eeg\\sub-\"+str(paziente)+\"_task-rsvp_eeg.vhdr\"\n",
    "    #importo eeg\n",
    "    raw=mne.io.read_raw_brainvision(filename, preload= True)\n",
    "    #Applico un filtro FIR tra 0.1 e 12 Hz per isolare le frequenze rilevanti\n",
    "    raw_filtred=raw.filter(0.1, 12, method='fir')\n",
    "    #nuovo riferimento dei segnali differenzial degli elettrodi\n",
    "    raw_new_ref=raw_filtred.set_eeg_reference(ref_channels='average')\n",
    "    #Il dataset ha un sample ratio di 1000 Hz, che è troppo alto, quindi faccio un resampling e lo porto a 250 Hz\n",
    "    raw_resampled=raw_new_ref.copy().resample(sfreq=250)\n",
    "    #taglio la frequenza 10Hz \n",
    "    raw_final_notch=raw_resampled.copy().notch_filter(freqs=10)\n",
    "    #salvo il segnale prodotto\n",
    "    raw_final_notch.save(savename[i], overwrite=True)\n",
    "    "
   ]
  },
  {
   "cell_type": "code",
   "execution_count": null,
   "metadata": {},
   "outputs": [],
   "source": [
    "# Costruisco un ciclo for per memorizzare il segnale ricostruito dopo l'ICA di ciascun paziente\n",
    "for i in range(1,51,1):\n",
    "    notch = mne.io.read_raw_fif('paziente_' + str(i)+'_filtrato.fif') # recupero i file del filtro_notch eseguito sui pazienti\n",
    "    \n",
    "    preica = notch.copy().filter(l_freq=1., h_freq=None) # filtro passa-alto di 1 Hz\n",
    "    \n",
    "    bipolar_ref = mne.set_bipolar_reference(preica, 'Fp1', 'Fp2', ch_name='Reference', drop_refs=False) # creo un anale artificiale come pattern di riferimento per individuare l'ICs artefatti\n",
    "    raw_ricostruito = bipolar_ref.copy() # copio il segnale contenente il nuovo canale creato\n",
    "    \n",
    "    ica = ICA(n_components=15, max_iter='auto', random_state=97)\n",
    "    ica.fit(bipolar_ref) # genero l'unmixing matrix, con un numero di componenti indicato\n",
    "    \n",
    "    eog_indices, eog_scores = ica.find_bads_eog(bipolar_ref, ch_name='Reference') # Detect EOG related components using correlation.\n",
    "    ica.exclude = eog_indices # escludo i canali che coincidono con il pattern EOG\n",
    "    ica.apply(raw_ricostruito)\n",
    "    \n",
    "    # explained_var_ratio = ica.get_explained_variance_ratio(bipolar_ref)\n",
    "    # explained_var_ratio\n",
    "    \n",
    "    final_raw = raw_ricostruito.drop_channels('Reference')\n",
    "    final_raw.save('raw'+str(i)+'post-ica.fif')\n",
    "    "
   ]
  }
 ],
 "metadata": {
  "deepnote": {},
  "deepnote_execution_queue": [],
  "deepnote_notebook_id": "70d6140b77f64e79969664d86a7773eb",
  "deepnote_persisted_session": {
   "createdAt": "2023-04-04T11:17:19.759Z"
  },
  "kernelspec": {
   "display_name": "Python 3 (ipykernel)",
   "language": "python",
   "name": "python3"
  },
  "language_info": {
   "codemirror_mode": {
    "name": "ipython",
    "version": 3
   },
   "file_extension": ".py",
   "mimetype": "text/x-python",
   "name": "python",
   "nbconvert_exporter": "python",
   "pygments_lexer": "ipython3",
   "version": "3.9.16"
  }
 },
 "nbformat": 4,
 "nbformat_minor": 1
}
